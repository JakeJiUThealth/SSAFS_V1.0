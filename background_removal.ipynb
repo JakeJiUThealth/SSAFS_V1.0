{
 "cells": [
  {
   "cell_type": "code",
   "execution_count": 21,
   "metadata": {},
   "outputs": [
    {
     "name": "stdout",
     "output_type": "stream",
     "text": [
      "------------ALL DONE!------------\n"
     ]
    },
    {
     "data": {
      "image/png": "[encoded data removed]",
      "text/plain": [
       "<Figure size 432x288 with 1 Axes>"
      ]
     },
     "metadata": {
      "needs_background": "light"
     },
     "output_type": "display_data"
    }
   ],
   "source": [
    "'''\n",
    "background removal:removing the background, keeping only the valid area of the plant leaves\n",
    "input:plant images\n",
    "output:valid area for plant images\n",
    "\n",
    "'''\n",
    "import cv2\n",
    "import numpy as np\n",
    "from matplotlib import pyplot as plt\n",
    "import os\n",
    "\n",
    "path = 'test/'\n",
    "savepath = \"result/\"\n",
    "\n",
    "cnt=0\n",
    "\n",
    "filelist = os.listdir(path)\n",
    "for file in filelist:\n",
    "    img = cv2.imread(path+file)\n",
    "    \n",
    "    mask = np.zeros(img.shape[:2], np.uint8)\n",
    "    SIZE = (1, 65)\n",
    "    bgdModle = np.zeros(SIZE, np.float64)\n",
    "    fgdModle = np.zeros(SIZE, np.float64)\n",
    "    rect = (1, 1, img.shape[1]-40, img.shape[0])\n",
    "    cv2.grabCut(img, mask, rect, bgdModle, fgdModle, 5, cv2.GC_INIT_WITH_RECT)\n",
    "\n",
    "    mask2 = np.where((mask == 2) | (mask == 0), 0, 1).astype('uint8')\n",
    "    img *= mask2[:, :, np.newaxis]\n",
    "    \n",
    "   \n",
    "    \n",
    "    \n",
    "    filename = os.path.splitext(file)[0]\n",
    "    #print(filename)\n",
    "    plt.axis('off')\n",
    "    cv2.imwrite(savepath+filename+'.jpg',img)\n",
    "    \n",
    "    cnt+=1\n",
    "    if cnt%100==0:\n",
    "        print(cnt)\n",
    "print('------------ALL DONE!------------')\n",
    "\n",
    "\n",
    "\n",
    "\n"
   ]
  },
  {
   "cell_type": "code",
   "execution_count": null,
   "metadata": {},
   "outputs": [],
   "source": []
  }
 ],
 "metadata": {
  "kernelspec": {
   "display_name": "Python 3",
   "language": "python",
   "name": "python3"
  },
  "language_info": {
   "codemirror_mode": {
    "name": "ipython",
    "version": 3
   },
   "file_extension": ".py",
   "mimetype": "text/x-python",
   "name": "python",
   "nbconvert_exporter": "python",
   "pygments_lexer": "ipython3",
   "version": "3.6.12"
  }
 },
 "nbformat": 4,
 "nbformat_minor": 4
}
